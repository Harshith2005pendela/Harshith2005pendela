{
  "cells": [
    {
      "cell_type": "markdown",
      "metadata": {
        "id": "view-in-github",
        "colab_type": "text"
      },
      "source": [
        "<a href=\"https://colab.research.google.com/github/Harshith2005pendela/Harshith2005pendela/blob/main/EE240.ipynb\" target=\"_parent\"><img src=\"https://colab.research.google.com/assets/colab-badge.svg\" alt=\"Open In Colab\"/></a>"
      ]
    },
    {
      "cell_type": "code",
      "execution_count": null,
      "id": "ee9a7635-bcb5-42df-9f5c-654ddc44de17",
      "metadata": {
        "colab": {
          "base_uri": "https://localhost:8080/",
          "height": 423
        },
        "id": "ee9a7635-bcb5-42df-9f5c-654ddc44de17",
        "outputId": "a81608ad-abca-4ab6-eb8f-971ef0ddf42a"
      },
      "outputs": [
        {
          "output_type": "execute_result",
          "data": {
            "text/plain": [
              "         TIME    Vab    Vbc    Vca    Ia    Ib    Ic\n",
              "0     -0.0449  221.0   19.0 -261.0  2.23 -3.91  2.00\n",
              "1     -0.0449  219.0   14.9 -262.0  2.27 -3.95  2.08\n",
              "2     -0.0448  217.0   16.9 -262.0  2.17 -3.85  1.99\n",
              "3     -0.0448  215.0   16.9 -261.0  2.19 -3.86  2.00\n",
              "4     -0.0448  218.0   18.4 -261.0  2.26 -3.85  2.17\n",
              "...       ...    ...    ...    ...   ...   ...   ...\n",
              "26245  0.0391  -93.4  273.0 -205.0  3.64 -1.44 -1.75\n",
              "26246  0.0391  -94.8  273.0 -205.0  3.64 -1.51 -1.85\n",
              "26247  0.0391  -93.0  272.0 -203.0  3.64 -1.46 -1.62\n",
              "26248  0.0391  -91.2  269.0 -206.0  3.69 -1.40 -1.82\n",
              "26249  0.0391  -96.6  273.0 -203.0  3.68 -1.48 -1.68\n",
              "\n",
              "[26250 rows x 7 columns]"
            ],
            "text/html": [
              "\n",
              "  <div id=\"df-f637649b-8961-4ea4-b587-470a406bba4e\" class=\"colab-df-container\">\n",
              "    <div>\n",
              "<style scoped>\n",
              "    .dataframe tbody tr th:only-of-type {\n",
              "        vertical-align: middle;\n",
              "    }\n",
              "\n",
              "    .dataframe tbody tr th {\n",
              "        vertical-align: top;\n",
              "    }\n",
              "\n",
              "    .dataframe thead th {\n",
              "        text-align: right;\n",
              "    }\n",
              "</style>\n",
              "<table border=\"1\" class=\"dataframe\">\n",
              "  <thead>\n",
              "    <tr style=\"text-align: right;\">\n",
              "      <th></th>\n",
              "      <th>TIME</th>\n",
              "      <th>Vab</th>\n",
              "      <th>Vbc</th>\n",
              "      <th>Vca</th>\n",
              "      <th>Ia</th>\n",
              "      <th>Ib</th>\n",
              "      <th>Ic</th>\n",
              "    </tr>\n",
              "  </thead>\n",
              "  <tbody>\n",
              "    <tr>\n",
              "      <th>0</th>\n",
              "      <td>-0.0449</td>\n",
              "      <td>221.0</td>\n",
              "      <td>19.0</td>\n",
              "      <td>-261.0</td>\n",
              "      <td>2.23</td>\n",
              "      <td>-3.91</td>\n",
              "      <td>2.00</td>\n",
              "    </tr>\n",
              "    <tr>\n",
              "      <th>1</th>\n",
              "      <td>-0.0449</td>\n",
              "      <td>219.0</td>\n",
              "      <td>14.9</td>\n",
              "      <td>-262.0</td>\n",
              "      <td>2.27</td>\n",
              "      <td>-3.95</td>\n",
              "      <td>2.08</td>\n",
              "    </tr>\n",
              "    <tr>\n",
              "      <th>2</th>\n",
              "      <td>-0.0448</td>\n",
              "      <td>217.0</td>\n",
              "      <td>16.9</td>\n",
              "      <td>-262.0</td>\n",
              "      <td>2.17</td>\n",
              "      <td>-3.85</td>\n",
              "      <td>1.99</td>\n",
              "    </tr>\n",
              "    <tr>\n",
              "      <th>3</th>\n",
              "      <td>-0.0448</td>\n",
              "      <td>215.0</td>\n",
              "      <td>16.9</td>\n",
              "      <td>-261.0</td>\n",
              "      <td>2.19</td>\n",
              "      <td>-3.86</td>\n",
              "      <td>2.00</td>\n",
              "    </tr>\n",
              "    <tr>\n",
              "      <th>4</th>\n",
              "      <td>-0.0448</td>\n",
              "      <td>218.0</td>\n",
              "      <td>18.4</td>\n",
              "      <td>-261.0</td>\n",
              "      <td>2.26</td>\n",
              "      <td>-3.85</td>\n",
              "      <td>2.17</td>\n",
              "    </tr>\n",
              "    <tr>\n",
              "      <th>...</th>\n",
              "      <td>...</td>\n",
              "      <td>...</td>\n",
              "      <td>...</td>\n",
              "      <td>...</td>\n",
              "      <td>...</td>\n",
              "      <td>...</td>\n",
              "      <td>...</td>\n",
              "    </tr>\n",
              "    <tr>\n",
              "      <th>26245</th>\n",
              "      <td>0.0391</td>\n",
              "      <td>-93.4</td>\n",
              "      <td>273.0</td>\n",
              "      <td>-205.0</td>\n",
              "      <td>3.64</td>\n",
              "      <td>-1.44</td>\n",
              "      <td>-1.75</td>\n",
              "    </tr>\n",
              "    <tr>\n",
              "      <th>26246</th>\n",
              "      <td>0.0391</td>\n",
              "      <td>-94.8</td>\n",
              "      <td>273.0</td>\n",
              "      <td>-205.0</td>\n",
              "      <td>3.64</td>\n",
              "      <td>-1.51</td>\n",
              "      <td>-1.85</td>\n",
              "    </tr>\n",
              "    <tr>\n",
              "      <th>26247</th>\n",
              "      <td>0.0391</td>\n",
              "      <td>-93.0</td>\n",
              "      <td>272.0</td>\n",
              "      <td>-203.0</td>\n",
              "      <td>3.64</td>\n",
              "      <td>-1.46</td>\n",
              "      <td>-1.62</td>\n",
              "    </tr>\n",
              "    <tr>\n",
              "      <th>26248</th>\n",
              "      <td>0.0391</td>\n",
              "      <td>-91.2</td>\n",
              "      <td>269.0</td>\n",
              "      <td>-206.0</td>\n",
              "      <td>3.69</td>\n",
              "      <td>-1.40</td>\n",
              "      <td>-1.82</td>\n",
              "    </tr>\n",
              "    <tr>\n",
              "      <th>26249</th>\n",
              "      <td>0.0391</td>\n",
              "      <td>-96.6</td>\n",
              "      <td>273.0</td>\n",
              "      <td>-203.0</td>\n",
              "      <td>3.68</td>\n",
              "      <td>-1.48</td>\n",
              "      <td>-1.68</td>\n",
              "    </tr>\n",
              "  </tbody>\n",
              "</table>\n",
              "<p>26250 rows × 7 columns</p>\n",
              "</div>\n",
              "    <div class=\"colab-df-buttons\">\n",
              "\n",
              "  <div class=\"colab-df-container\">\n",
              "    <button class=\"colab-df-convert\" onclick=\"convertToInteractive('df-f637649b-8961-4ea4-b587-470a406bba4e')\"\n",
              "            title=\"Convert this dataframe to an interactive table.\"\n",
              "            style=\"display:none;\">\n",
              "\n",
              "  <svg xmlns=\"http://www.w3.org/2000/svg\" height=\"24px\" viewBox=\"0 -960 960 960\">\n",
              "    <path d=\"M120-120v-720h720v720H120Zm60-500h600v-160H180v160Zm220 220h160v-160H400v160Zm0 220h160v-160H400v160ZM180-400h160v-160H180v160Zm440 0h160v-160H620v160ZM180-180h160v-160H180v160Zm440 0h160v-160H620v160Z\"/>\n",
              "  </svg>\n",
              "    </button>\n",
              "\n",
              "  <style>\n",
              "    .colab-df-container {\n",
              "      display:flex;\n",
              "      gap: 12px;\n",
              "    }\n",
              "\n",
              "    .colab-df-convert {\n",
              "      background-color: #E8F0FE;\n",
              "      border: none;\n",
              "      border-radius: 50%;\n",
              "      cursor: pointer;\n",
              "      display: none;\n",
              "      fill: #1967D2;\n",
              "      height: 32px;\n",
              "      padding: 0 0 0 0;\n",
              "      width: 32px;\n",
              "    }\n",
              "\n",
              "    .colab-df-convert:hover {\n",
              "      background-color: #E2EBFA;\n",
              "      box-shadow: 0px 1px 2px rgba(60, 64, 67, 0.3), 0px 1px 3px 1px rgba(60, 64, 67, 0.15);\n",
              "      fill: #174EA6;\n",
              "    }\n",
              "\n",
              "    .colab-df-buttons div {\n",
              "      margin-bottom: 4px;\n",
              "    }\n",
              "\n",
              "    [theme=dark] .colab-df-convert {\n",
              "      background-color: #3B4455;\n",
              "      fill: #D2E3FC;\n",
              "    }\n",
              "\n",
              "    [theme=dark] .colab-df-convert:hover {\n",
              "      background-color: #434B5C;\n",
              "      box-shadow: 0px 1px 3px 1px rgba(0, 0, 0, 0.15);\n",
              "      filter: drop-shadow(0px 1px 2px rgba(0, 0, 0, 0.3));\n",
              "      fill: #FFFFFF;\n",
              "    }\n",
              "  </style>\n",
              "\n",
              "    <script>\n",
              "      const buttonEl =\n",
              "        document.querySelector('#df-f637649b-8961-4ea4-b587-470a406bba4e button.colab-df-convert');\n",
              "      buttonEl.style.display =\n",
              "        google.colab.kernel.accessAllowed ? 'block' : 'none';\n",
              "\n",
              "      async function convertToInteractive(key) {\n",
              "        const element = document.querySelector('#df-f637649b-8961-4ea4-b587-470a406bba4e');\n",
              "        const dataTable =\n",
              "          await google.colab.kernel.invokeFunction('convertToInteractive',\n",
              "                                                    [key], {});\n",
              "        if (!dataTable) return;\n",
              "\n",
              "        const docLinkHtml = 'Like what you see? Visit the ' +\n",
              "          '<a target=\"_blank\" href=https://colab.research.google.com/notebooks/data_table.ipynb>data table notebook</a>'\n",
              "          + ' to learn more about interactive tables.';\n",
              "        element.innerHTML = '';\n",
              "        dataTable['output_type'] = 'display_data';\n",
              "        await google.colab.output.renderOutput(dataTable, element);\n",
              "        const docLink = document.createElement('div');\n",
              "        docLink.innerHTML = docLinkHtml;\n",
              "        element.appendChild(docLink);\n",
              "      }\n",
              "    </script>\n",
              "  </div>\n",
              "\n",
              "\n",
              "<div id=\"df-40082df7-7e09-466d-a66d-f1c776233faf\">\n",
              "  <button class=\"colab-df-quickchart\" onclick=\"quickchart('df-40082df7-7e09-466d-a66d-f1c776233faf')\"\n",
              "            title=\"Suggest charts\"\n",
              "            style=\"display:none;\">\n",
              "\n",
              "<svg xmlns=\"http://www.w3.org/2000/svg\" height=\"24px\"viewBox=\"0 0 24 24\"\n",
              "     width=\"24px\">\n",
              "    <g>\n",
              "        <path d=\"M19 3H5c-1.1 0-2 .9-2 2v14c0 1.1.9 2 2 2h14c1.1 0 2-.9 2-2V5c0-1.1-.9-2-2-2zM9 17H7v-7h2v7zm4 0h-2V7h2v10zm4 0h-2v-4h2v4z\"/>\n",
              "    </g>\n",
              "</svg>\n",
              "  </button>\n",
              "\n",
              "<style>\n",
              "  .colab-df-quickchart {\n",
              "      --bg-color: #E8F0FE;\n",
              "      --fill-color: #1967D2;\n",
              "      --hover-bg-color: #E2EBFA;\n",
              "      --hover-fill-color: #174EA6;\n",
              "      --disabled-fill-color: #AAA;\n",
              "      --disabled-bg-color: #DDD;\n",
              "  }\n",
              "\n",
              "  [theme=dark] .colab-df-quickchart {\n",
              "      --bg-color: #3B4455;\n",
              "      --fill-color: #D2E3FC;\n",
              "      --hover-bg-color: #434B5C;\n",
              "      --hover-fill-color: #FFFFFF;\n",
              "      --disabled-bg-color: #3B4455;\n",
              "      --disabled-fill-color: #666;\n",
              "  }\n",
              "\n",
              "  .colab-df-quickchart {\n",
              "    background-color: var(--bg-color);\n",
              "    border: none;\n",
              "    border-radius: 50%;\n",
              "    cursor: pointer;\n",
              "    display: none;\n",
              "    fill: var(--fill-color);\n",
              "    height: 32px;\n",
              "    padding: 0;\n",
              "    width: 32px;\n",
              "  }\n",
              "\n",
              "  .colab-df-quickchart:hover {\n",
              "    background-color: var(--hover-bg-color);\n",
              "    box-shadow: 0 1px 2px rgba(60, 64, 67, 0.3), 0 1px 3px 1px rgba(60, 64, 67, 0.15);\n",
              "    fill: var(--button-hover-fill-color);\n",
              "  }\n",
              "\n",
              "  .colab-df-quickchart-complete:disabled,\n",
              "  .colab-df-quickchart-complete:disabled:hover {\n",
              "    background-color: var(--disabled-bg-color);\n",
              "    fill: var(--disabled-fill-color);\n",
              "    box-shadow: none;\n",
              "  }\n",
              "\n",
              "  .colab-df-spinner {\n",
              "    border: 2px solid var(--fill-color);\n",
              "    border-color: transparent;\n",
              "    border-bottom-color: var(--fill-color);\n",
              "    animation:\n",
              "      spin 1s steps(1) infinite;\n",
              "  }\n",
              "\n",
              "  @keyframes spin {\n",
              "    0% {\n",
              "      border-color: transparent;\n",
              "      border-bottom-color: var(--fill-color);\n",
              "      border-left-color: var(--fill-color);\n",
              "    }\n",
              "    20% {\n",
              "      border-color: transparent;\n",
              "      border-left-color: var(--fill-color);\n",
              "      border-top-color: var(--fill-color);\n",
              "    }\n",
              "    30% {\n",
              "      border-color: transparent;\n",
              "      border-left-color: var(--fill-color);\n",
              "      border-top-color: var(--fill-color);\n",
              "      border-right-color: var(--fill-color);\n",
              "    }\n",
              "    40% {\n",
              "      border-color: transparent;\n",
              "      border-right-color: var(--fill-color);\n",
              "      border-top-color: var(--fill-color);\n",
              "    }\n",
              "    60% {\n",
              "      border-color: transparent;\n",
              "      border-right-color: var(--fill-color);\n",
              "    }\n",
              "    80% {\n",
              "      border-color: transparent;\n",
              "      border-right-color: var(--fill-color);\n",
              "      border-bottom-color: var(--fill-color);\n",
              "    }\n",
              "    90% {\n",
              "      border-color: transparent;\n",
              "      border-bottom-color: var(--fill-color);\n",
              "    }\n",
              "  }\n",
              "</style>\n",
              "\n",
              "  <script>\n",
              "    async function quickchart(key) {\n",
              "      const quickchartButtonEl =\n",
              "        document.querySelector('#' + key + ' button');\n",
              "      quickchartButtonEl.disabled = true;  // To prevent multiple clicks.\n",
              "      quickchartButtonEl.classList.add('colab-df-spinner');\n",
              "      try {\n",
              "        const charts = await google.colab.kernel.invokeFunction(\n",
              "            'suggestCharts', [key], {});\n",
              "      } catch (error) {\n",
              "        console.error('Error during call to suggestCharts:', error);\n",
              "      }\n",
              "      quickchartButtonEl.classList.remove('colab-df-spinner');\n",
              "      quickchartButtonEl.classList.add('colab-df-quickchart-complete');\n",
              "    }\n",
              "    (() => {\n",
              "      let quickchartButtonEl =\n",
              "        document.querySelector('#df-40082df7-7e09-466d-a66d-f1c776233faf button');\n",
              "      quickchartButtonEl.style.display =\n",
              "        google.colab.kernel.accessAllowed ? 'block' : 'none';\n",
              "    })();\n",
              "  </script>\n",
              "</div>\n",
              "\n",
              "  <div id=\"id_6cfc2e62-2c1d-4830-9128-a9a14632291c\">\n",
              "    <style>\n",
              "      .colab-df-generate {\n",
              "        background-color: #E8F0FE;\n",
              "        border: none;\n",
              "        border-radius: 50%;\n",
              "        cursor: pointer;\n",
              "        display: none;\n",
              "        fill: #1967D2;\n",
              "        height: 32px;\n",
              "        padding: 0 0 0 0;\n",
              "        width: 32px;\n",
              "      }\n",
              "\n",
              "      .colab-df-generate:hover {\n",
              "        background-color: #E2EBFA;\n",
              "        box-shadow: 0px 1px 2px rgba(60, 64, 67, 0.3), 0px 1px 3px 1px rgba(60, 64, 67, 0.15);\n",
              "        fill: #174EA6;\n",
              "      }\n",
              "\n",
              "      [theme=dark] .colab-df-generate {\n",
              "        background-color: #3B4455;\n",
              "        fill: #D2E3FC;\n",
              "      }\n",
              "\n",
              "      [theme=dark] .colab-df-generate:hover {\n",
              "        background-color: #434B5C;\n",
              "        box-shadow: 0px 1px 3px 1px rgba(0, 0, 0, 0.15);\n",
              "        filter: drop-shadow(0px 1px 2px rgba(0, 0, 0, 0.3));\n",
              "        fill: #FFFFFF;\n",
              "      }\n",
              "    </style>\n",
              "    <button class=\"colab-df-generate\" onclick=\"generateWithVariable('df')\"\n",
              "            title=\"Generate code using this dataframe.\"\n",
              "            style=\"display:none;\">\n",
              "\n",
              "  <svg xmlns=\"http://www.w3.org/2000/svg\" height=\"24px\"viewBox=\"0 0 24 24\"\n",
              "       width=\"24px\">\n",
              "    <path d=\"M7,19H8.4L18.45,9,17,7.55,7,17.6ZM5,21V16.75L18.45,3.32a2,2,0,0,1,2.83,0l1.4,1.43a1.91,1.91,0,0,1,.58,1.4,1.91,1.91,0,0,1-.58,1.4L9.25,21ZM18.45,9,17,7.55Zm-12,3A5.31,5.31,0,0,0,4.9,8.1,5.31,5.31,0,0,0,1,6.5,5.31,5.31,0,0,0,4.9,4.9,5.31,5.31,0,0,0,6.5,1,5.31,5.31,0,0,0,8.1,4.9,5.31,5.31,0,0,0,12,6.5,5.46,5.46,0,0,0,6.5,12Z\"/>\n",
              "  </svg>\n",
              "    </button>\n",
              "    <script>\n",
              "      (() => {\n",
              "      const buttonEl =\n",
              "        document.querySelector('#id_6cfc2e62-2c1d-4830-9128-a9a14632291c button.colab-df-generate');\n",
              "      buttonEl.style.display =\n",
              "        google.colab.kernel.accessAllowed ? 'block' : 'none';\n",
              "\n",
              "      buttonEl.onclick = () => {\n",
              "        google.colab.notebook.generateWithVariable('df');\n",
              "      }\n",
              "      })();\n",
              "    </script>\n",
              "  </div>\n",
              "\n",
              "    </div>\n",
              "  </div>\n"
            ],
            "application/vnd.google.colaboratory.intrinsic+json": {
              "type": "dataframe",
              "variable_name": "df",
              "summary": "{\n  \"name\": \"df\",\n  \"rows\": 26250,\n  \"fields\": [\n    {\n      \"column\": \"TIME\",\n      \"properties\": {\n        \"dtype\": \"number\",\n        \"std\": 0.02424916077153597,\n        \"min\": -0.0449,\n        \"max\": 0.0391,\n        \"num_unique_values\": 3066,\n        \"samples\": [\n          -0.00108,\n          -0.0246,\n          -0.000965\n        ],\n        \"semantic_type\": \"\",\n        \"description\": \"\"\n      }\n    },\n    {\n      \"column\": \"Vab\",\n      \"properties\": {\n        \"dtype\": \"number\",\n        \"std\": 195.81853405609465,\n        \"min\": -299.0,\n        \"max\": 279.0,\n        \"num_unique_values\": 2518,\n        \"samples\": [\n          -54.1,\n          6.13,\n          91.9\n        ],\n        \"semantic_type\": \"\",\n        \"description\": \"\"\n      }\n    },\n    {\n      \"column\": \"Vbc\",\n      \"properties\": {\n        \"dtype\": \"number\",\n        \"std\": 196.27010179811543,\n        \"min\": -289.0,\n        \"max\": 283.0,\n        \"num_unique_values\": 2468,\n        \"samples\": [\n          -4.97,\n          24.5,\n          -4.0\n        ],\n        \"semantic_type\": \"\",\n        \"description\": \"\"\n      }\n    },\n    {\n      \"column\": \"Vca\",\n      \"properties\": {\n        \"dtype\": \"number\",\n        \"std\": 198.01154022346526,\n        \"min\": -299.0,\n        \"max\": 271.0,\n        \"num_unique_values\": 2453,\n        \"samples\": [\n          67.9,\n          51.7,\n          20.3\n        ],\n        \"semantic_type\": \"\",\n        \"description\": \"\"\n      }\n    },\n    {\n      \"column\": \"Ia\",\n      \"properties\": {\n        \"dtype\": \"number\",\n        \"std\": 2.568609620759134,\n        \"min\": -3.44,\n        \"max\": 4.06,\n        \"num_unique_values\": 2331,\n        \"samples\": [\n          -0.146,\n          0.934,\n          -0.813\n        ],\n        \"semantic_type\": \"\",\n        \"description\": \"\"\n      }\n    },\n    {\n      \"column\": \"Ib\",\n      \"properties\": {\n        \"dtype\": \"number\",\n        \"std\": 2.759250850974843,\n        \"min\": -4.06,\n        \"max\": 3.98,\n        \"num_unique_values\": 2375,\n        \"samples\": [\n          0.373,\n          0.0758,\n          -3.04\n        ],\n        \"semantic_type\": \"\",\n        \"description\": \"\"\n      }\n    },\n    {\n      \"column\": \"Ic\",\n      \"properties\": {\n        \"dtype\": \"number\",\n        \"std\": 2.358989570745773,\n        \"min\": -3.29,\n        \"max\": 3.75,\n        \"num_unique_values\": 2401,\n        \"samples\": [\n          -0.946,\n          0.985,\n          0.359\n        ],\n        \"semantic_type\": \"\",\n        \"description\": \"\"\n      }\n    }\n  ]\n}"
            }
          },
          "metadata": {},
          "execution_count": 2
        }
      ],
      "source": [
        "import pandas as pd\n",
        "import numpy as np\n",
        "import matplotlib.pyplot as plt\n",
        "\n",
        "df = pd.read_csv(\"NEW DATA_ALL.csv\",skiprows = 15,usecols = range(7))\n",
        "df"
      ]
    },
    {
      "cell_type": "code",
      "execution_count": null,
      "id": "1764f756-dd41-420a-9691-b9a874a13575",
      "metadata": {
        "colab": {
          "base_uri": "https://localhost:8080/",
          "height": 407
        },
        "id": "1764f756-dd41-420a-9691-b9a874a13575",
        "outputId": "8a722cb9-5215-4571-be5a-9e6f7e720747"
      },
      "outputs": [
        {
          "output_type": "display_data",
          "data": {
            "text/plain": [
              "<Figure size 1200x400 with 6 Axes>"
            ],
            "image/png": "[encoded data removed]"
          },
          "metadata": {}
        }
      ],
      "source": [
        "time = df['TIME']\n",
        "V_ab = df['Vab']\n",
        "V_bc = df['Vbc']\n",
        "V_ca = df['Vca']\n",
        "I_a = df['Ia']\n",
        "I_b = df['Ib']\n",
        "I_c = df['Ic']\n",
        "\n",
        "fig, axs = plt.subplots(ncols=3, nrows=2, figsize=(12, 4))\n",
        "\n",
        "axs[0,0].plot(time,V_ab)\n",
        "axs[0,0].set_xlabel('Time')\n",
        "axs[0,0].set_ylabel('Vab')\n",
        "\n",
        "axs[0,1].plot(time,V_bc)\n",
        "axs[0,1].set_xlabel('Time')\n",
        "axs[0, 1].set_ylabel('Vbc')\n",
        "\n",
        "axs[0,2].plot(time,V_ca)\n",
        "axs[0,2].set_xlabel('Time')\n",
        "axs[0,2].set_ylabel('Vca')\n",
        "\n",
        "# Plotting I_a on the fourth subplot\n",
        "axs[1, 0].plot(time, I_a)\n",
        "axs[1, 0].set_xlabel('Time')\n",
        "axs[1, 0].set_ylabel('Ia')\n",
        "\n",
        "# Plotting I_b on the fifth subplot\n",
        "axs[1, 1].plot(time, I_b)\n",
        "axs[1, 1].set_xlabel('Time')\n",
        "axs[1, 1].set_ylabel('Ib')\n",
        "\n",
        "# Plotting I_c on the sixth subplot\n",
        "axs[1, 2].plot(time, I_c)\n",
        "axs[1, 2].set_xlabel('Time')\n",
        "axs[1, 2].set_ylabel('Ic')\n",
        "\n",
        "plt.tight_layout()\n",
        "plt.show()\n"
      ]
    },
    {
      "cell_type": "code",
      "execution_count": null,
      "id": "43e3e12b-a9c1-4ce5-bfc1-5ea33824b2b8",
      "metadata": {
        "colab": {
          "base_uri": "https://localhost:8080/"
        },
        "id": "43e3e12b-a9c1-4ce5-bfc1-5ea33824b2b8",
        "outputId": "95bc02bb-1738-481b-8fe9-ea4e80d43577"
      },
      "outputs": [
        {
          "output_type": "execute_result",
          "data": {
            "text/plain": [
              "195.9346886718448"
            ]
          },
          "metadata": {},
          "execution_count": 4
        }
      ],
      "source": [
        "Vab_rms = np.sqrt(np.mean(V_ab**2))\n",
        "Vbc_rms = np.sqrt(np.mean(V_bc**2))\n",
        "Vca_rms = np.sqrt(np.mean(V_ca**2))\n",
        "Ia_rms = np.sqrt(np.mean(I_a**2))\n",
        "Ib_rms = np.sqrt(np.mean(I_b**2))\n",
        "Ic_rms = np.sqrt(np.mean(I_c**2))\n",
        "Vab_rms"
      ]
    },
    {
      "cell_type": "code",
      "execution_count": null,
      "id": "010ef16f-d79c-4f04-bac2-e3196b78fbad",
      "metadata": {
        "id": "010ef16f-d79c-4f04-bac2-e3196b78fbad"
      },
      "outputs": [],
      "source": [
        "# I_a_max = np.max(I_a)\n",
        "# I_b_max = np.max(I_b)\n",
        "# I_c_max = np.max(I_c)\n",
        "# V_ab_max = np.max(V_ab)\n",
        "# V_bc_max = np.max(V_bc)\n",
        "# V_ca_max = np.max(V_ca)\n",
        "# I_a_max\n",
        "# V_ab_max"
      ]
    },
    {
      "cell_type": "code",
      "execution_count": null,
      "id": "92105cab-7ac2-4217-8f3d-49527a1ce9c1",
      "metadata": {
        "id": "92105cab-7ac2-4217-8f3d-49527a1ce9c1"
      },
      "outputs": [],
      "source": [
        "# pha_I = np.arcsin(I_a/I_a_max)\n",
        "# phb_I = np.arccos(I_b/I_b_max)\n",
        "# phc_I = np.arccos(I_c/I_c_max)\n",
        "# phab_V = np.arcsin(V_ab/V_ab_max)\n",
        "# phbc_V = np.arccos(V_bc/V_bc_max)\n",
        "# phca_V = np.arccos(V_ca/V_ca_max)\n",
        "# np.degrees(phab_V-pha_I)"
      ]
    },
    {
      "cell_type": "code",
      "source": [
        "def timeperiod(signal):\n",
        "  zero_index = np.where(np.diff(np.sign(signal)))[0]\n",
        "  index =[]\n",
        "  index.append(t[0])\n",
        "  t = [time.iloc[t[0]]]\n",
        "  i = 0\n",
        "  while(abs(t2-t1)<0.005):\n",
        "    t2 = time.iloc[t[i]]\n",
        "    i+=1\n",
        "  t2 = time.iloc[t[i]]\n",
        "  index.append(i)\n",
        "  return 2*(t2-t1) , index\n"
      ],
      "metadata": {
        "id": "U9-5BvrbZlD7"
      },
      "id": "U9-5BvrbZlD7",
      "execution_count": null,
      "outputs": []
    },
    {
      "cell_type": "code",
      "source": [
        "period , index = timeperiod(V_ab)\n",
        "print(f\"time period = {period}\")\n"
      ],
      "metadata": {
        "colab": {
          "base_uri": "https://localhost:8080/"
        },
        "id": "6s8-_4MNqj0J",
        "outputId": "813eab8e-3e63-476c-d599-dcc29df6fcbc"
      },
      "id": "6s8-_4MNqj0J",
      "execution_count": null,
      "outputs": [
        {
          "output_type": "stream",
          "name": "stdout",
          "text": [
            "time period = 0.0204\n"
          ]
        }
      ]
    },
    {
      "cell_type": "code",
      "execution_count": null,
      "id": "1dd3ace1-e2eb-4003-bcae-a08dfd84cd83",
      "metadata": {
        "colab": {
          "base_uri": "https://localhost:8080/",
          "height": 430
        },
        "id": "1dd3ace1-e2eb-4003-bcae-a08dfd84cd83",
        "outputId": "34a3553d-ac3d-474a-ed3d-e2451da19575"
      },
      "outputs": [
        {
          "output_type": "display_data",
          "data": {
            "text/plain": [
              "<Figure size 640x480 with 1 Axes>"
            ],
            "image/png": "[encoded data removed]"
          },
          "metadata": {}
        }
      ],
      "source": [
        "\n",
        "\n",
        "index_t1 = np.searchsorted(time, -0.01)\n",
        "index_t2 = np.searchsorted(time, 0.01)\n",
        "time_period = time[index_t1:index_t2]\n",
        "V_ab_range = V_ab[index_t1:index_t2]\n",
        "I_a_range = I_a[index_t1:index_t2]\n",
        "I_b_range = I_b[index_t1:index_t2]\n",
        "I_c_range = I_c[index_t1:index_t2]\n",
        "V_cb_range = -V_bc[index_t1:index_t2]\n",
        "V_ca_range = V_ca[index_t1:index_t2]\n",
        "plt.plot(time_period,V_ab_range,label='Vab')\n",
        "plt.plot(time_period,I_a_range,label='Ia')\n",
        "plt.plot(time_period,I_b_range,label='Ib')\n",
        "plt.plot(time_period,I_c_range,label='Ic')\n",
        "plt.plot(time_period,V_cb_range,label='Vcb')\n",
        "plt.plot(time_period,V_ca_range,label='Vca')\n",
        "plt.legend()\n",
        "plt.show()"
      ]
    },
    {
      "cell_type": "code",
      "source": [
        "Vab_rms = np.sqrt(np.mean(V_ab_range**2))\n",
        "Vbc_rms = np.sqrt(np.mean(V_cb_range**2))\n",
        "Vca_rms = np.sqrt(np.mean(V_ca_range**2))\n",
        "Ia_rms = np.sqrt(np.mean(I_a_range**2))\n",
        "Ib_rms = np.sqrt(np.mean(I_b_range**2))\n",
        "Ic_rms = np.sqrt(np.mean(I_c_range**2))"
      ],
      "metadata": {
        "id": "2r6SkcPMsaUX"
      },
      "id": "2r6SkcPMsaUX",
      "execution_count": null,
      "outputs": []
    },
    {
      "cell_type": "code",
      "source": [
        "print(f\"Vab_rms = {Vab_rms}\")\n",
        "print(f\"Vbc_rms = {Vbc_rms}\")\n",
        "print(f\"Vca_rms = {Vca_rms}\")\n",
        "print(f\"Ia_rms = {Ia_rms}\")\n",
        "print(f\"Ib_rms = {Ib_rms}\")\n",
        "print(f\"Ic_rms = {Ic_rms}\")\n"
      ],
      "metadata": {
        "colab": {
          "base_uri": "https://localhost:8080/"
        },
        "id": "cpvVUTsesTdg",
        "outputId": "42802b74-0013-413f-e525-f062f8481325"
      },
      "id": "cpvVUTsesTdg",
      "execution_count": null,
      "outputs": [
        {
          "output_type": "stream",
          "name": "stdout",
          "text": [
            "Vab_rms = 198.5824323241566\n",
            "Vbc_rms = 197.29680476721896\n",
            "Vca_rms = 195.3764987253483\n",
            "Ia_rms = 2.5853617451970923\n",
            "Ib_rms = 2.7695264835371844\n",
            "Ic_rms = 2.4114996894661322\n"
          ]
        }
      ]
    },
    {
      "cell_type": "code",
      "execution_count": null,
      "id": "663691a0-6d3c-4482-b610-ca7118916cf3",
      "metadata": {
        "colab": {
          "base_uri": "https://localhost:8080/"
        },
        "id": "663691a0-6d3c-4482-b610-ca7118916cf3",
        "outputId": "f4c10e7c-629c-4a3e-fca0-d5698d67a9ed"
      },
      "outputs": [
        {
          "output_type": "stream",
          "name": "stdout",
          "text": [
            "W1 = -18.88939077426565\n",
            "W2 = 375.0111514216156\n"
          ]
        }
      ],
      "source": [
        "W1 = np.mean(V_ab_range*I_a_range)\n",
        "W2 = np.mean(V_cb_range*I_c_range)\n",
        "print(f\"W1 = {W1}\")\n",
        "print(f\"W2 = {W2}\")"
      ]
    },
    {
      "cell_type": "code",
      "source": [
        "realpower= W1+W2\n",
        "reactivepower = np.sqrt(3)*(W2-W1)\n",
        "print(f\"real power = {realpower}\")\n",
        "print(f\"reactive power = {reactivepower}\")"
      ],
      "metadata": {
        "colab": {
          "base_uri": "https://localhost:8080/"
        },
        "id": "0Qz9zUK7pRVV",
        "outputId": "de4ac78f-5e9f-44a5-e28f-e378829367e7"
      },
      "id": "0Qz9zUK7pRVV",
      "execution_count": null,
      "outputs": [
        {
          "output_type": "stream",
          "name": "stdout",
          "text": [
            "real power = 356.1217606473499\n",
            "reactive power = 682.2557522121947\n"
          ]
        }
      ]
    },
    {
      "cell_type": "code",
      "execution_count": null,
      "id": "814fd9e7-22af-4169-8a22-1d99093b552d",
      "metadata": {
        "colab": {
          "base_uri": "https://localhost:8080/"
        },
        "id": "814fd9e7-22af-4169-8a22-1d99093b552d",
        "outputId": "315fbddc-6e48-48dd-cbb1-9067fbc4ff77"
      },
      "outputs": [
        {
          "output_type": "stream",
          "name": "stdout",
          "text": [
            "apparent power = 769.6074452818111\n"
          ]
        }
      ],
      "source": [
        "apparentpower = np.sqrt(realpower*realpower + reactivepower*reactivepower)\n",
        "print(f\"apparent power = {apparentpower}\")"
      ]
    },
    {
      "cell_type": "code",
      "source": [
        "powerfactor = realpower/apparentpower\n",
        "print(f\"power factor = {powerfactor}\")"
      ],
      "metadata": {
        "colab": {
          "base_uri": "https://localhost:8080/"
        },
        "id": "RY_Y0aFtqdwn",
        "outputId": "b9c1ddd3-2f0b-4934-bf63-31e49b3e4080"
      },
      "id": "RY_Y0aFtqdwn",
      "execution_count": null,
      "outputs": [
        {
          "output_type": "stream",
          "name": "stdout",
          "text": [
            "power factor = 0.4627316989078074\n"
          ]
        }
      ]
    },
    {
      "cell_type": "code",
      "execution_count": null,
      "id": "38fe4d90-34ce-43bc-8ef1-8b0d8860fc24",
      "metadata": {
        "id": "38fe4d90-34ce-43bc-8ef1-8b0d8860fc24"
      },
      "outputs": [],
      "source": []
    }
  ],
  "metadata": {
    "kernelspec": {
      "display_name": "Python 3 (ipykernel)",
      "language": "python",
      "name": "python3"
    },
    "language_info": {
      "codemirror_mode": {
        "name": "ipython",
        "version": 3
      },
      "file_extension": ".py",
      "mimetype": "text/x-python",
      "name": "python",
      "nbconvert_exporter": "python",
      "pygments_lexer": "ipython3",
      "version": "3.12.1"
    },
    "colab": {
      "provenance": [],
      "include_colab_link": true
    }
  },
  "nbformat": 4,
  "nbformat_minor": 5
}